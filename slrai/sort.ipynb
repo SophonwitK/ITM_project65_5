{
 "cells": [
  {
   "cell_type": "code",
   "execution_count": 4,
   "id": "7b366d2f",
   "metadata": {},
   "outputs": [],
   "source": [
    "import os"
   ]
  },
  {
   "cell_type": "code",
   "execution_count": 1,
   "id": "15db9634",
   "metadata": {},
   "outputs": [],
   "source": [
    "name='stand'"
   ]
  },
  {
   "cell_type": "code",
   "execution_count": 5,
   "id": "268ec2e4",
   "metadata": {},
   "outputs": [],
   "source": [
    "path = 'M:\\\\Work\\\\MIT\\\\DatasetV3\\\\dataset-v2-npy-split\\\\test\\\\'+name\n",
    "os.chdir(path)\n",
    "files=os.listdir(path)\n",
    "\n",
    "for i in range(len(files)):\n",
    "    os.rename(files[i],str(i)+'_')"
   ]
  },
  {
   "cell_type": "code",
   "execution_count": 6,
   "id": "ae42f79a",
   "metadata": {},
   "outputs": [],
   "source": [
    "path = 'M:\\\\Work\\\\MIT\\\\DatasetV3\\\\dataset-v2-npy-split\\\\test\\\\'+name\n",
    "os.chdir(path)\n",
    "files=os.listdir(path)\n",
    "for i in range(len(files)):\n",
    "    os.rename(files[i],str(i))"
   ]
  },
  {
   "cell_type": "code",
   "execution_count": 7,
   "id": "56df0dc8",
   "metadata": {},
   "outputs": [],
   "source": [
    "path = 'M:\\\\Work\\\\MIT\\\\DatasetV3\\\\dataset-v2-npy-split\\\\train\\\\'+name\n",
    "os.chdir(path)\n",
    "files=os.listdir(path)\n",
    "\n",
    "for i in range(len(files)):\n",
    "    os.rename(files[i],str(i)+'_')"
   ]
  },
  {
   "cell_type": "code",
   "execution_count": 8,
   "id": "56f3fc22",
   "metadata": {},
   "outputs": [],
   "source": [
    "path = 'M:\\\\Work\\\\MIT\\\\DatasetV3\\\\dataset-v2-npy-split\\\\train\\\\'+name\n",
    "os.chdir(path)\n",
    "files=os.listdir(path)\n",
    "for i in range(len(files)):\n",
    "    os.rename(files[i],str(i))"
   ]
  },
  {
   "cell_type": "code",
   "execution_count": 9,
   "id": "d9c22213",
   "metadata": {},
   "outputs": [],
   "source": [
    "path = 'M:\\\\Work\\\\MIT\\\\DatasetV3\\\\dataset-v2-npy-split\\\\val\\\\'+name\n",
    "os.chdir(path)\n",
    "files=os.listdir(path)\n",
    "for i in range(len(files)):\n",
    "    os.rename(files[i],str(i)+'_')"
   ]
  },
  {
   "cell_type": "code",
   "execution_count": 10,
   "id": "40e1cc52",
   "metadata": {},
   "outputs": [],
   "source": [
    "path = 'M:\\\\Work\\\\MIT\\\\DatasetV3\\\\dataset-v2-npy-split\\\\val\\\\'+name\n",
    "os.chdir(path)\n",
    "files=os.listdir(path)\n",
    "for i in range(len(files)):\n",
    "    os.rename(files[i],str(i))"
   ]
  },
  {
   "cell_type": "code",
   "execution_count": null,
   "id": "2951f56a",
   "metadata": {},
   "outputs": [],
   "source": []
  },
  {
   "cell_type": "code",
   "execution_count": null,
   "id": "4474a475",
   "metadata": {},
   "outputs": [],
   "source": []
  }
 ],
 "metadata": {
  "kernelspec": {
   "display_name": "Python 3 (ipykernel)",
   "language": "python",
   "name": "python3"
  },
  "language_info": {
   "codemirror_mode": {
    "name": "ipython",
    "version": 3
   },
   "file_extension": ".py",
   "mimetype": "text/x-python",
   "name": "python",
   "nbconvert_exporter": "python",
   "pygments_lexer": "ipython3",
   "version": "3.10.6"
  }
 },
 "nbformat": 4,
 "nbformat_minor": 5
}
