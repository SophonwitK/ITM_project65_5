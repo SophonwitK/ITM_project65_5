{
 "cells": [
  {
   "cell_type": "code",
   "execution_count": 2,
   "id": "540a40b0",
   "metadata": {},
   "outputs": [],
   "source": [
    "import os\n",
    "import shutil\n",
    "import random\n",
    "\n",
    "# Set the path to the original subfolder\n",
    "name='stand'\n",
    "original_folder = \"dataset-v2-npy-split/\"+name\n",
    "\n",
    "# Set the path to the split subfolders\n",
    "train_folder = \"save/\"+\"train/\"+name\n",
    "val_folder = \"save/\"+\"/val/\"+name\n",
    "test_folder = \"save/\"+\"/test/\"+name\n",
    "\n",
    "# Set the proportions for each split\n",
    "train_prop = 0.6\n",
    "val_prop = 0.2\n",
    "test_prop = 0.2\n",
    "\n",
    "# Iterate through the files in the original subfolder\n",
    "for filename in os.listdir(original_folder):\n",
    "    # Generate a random number between 0 and 1\n",
    "    rand = random.random()\n",
    "    \n",
    "    # Determine which split subfolder to move the file to\n",
    "    if rand < train_prop:\n",
    "        dest_folder = train_folder\n",
    "    elif rand < train_prop + val_prop:\n",
    "        dest_folder = val_folder\n",
    "    else:\n",
    "        dest_folder = test_folder\n",
    "    \n",
    "    # Move the file to the appropriate split subfolder\n",
    "    shutil.move(os.path.join(original_folder, filename), os.path.join(dest_folder, filename))"
   ]
  },
  {
   "cell_type": "code",
   "execution_count": null,
   "id": "268ec2e4",
   "metadata": {},
   "outputs": [],
   "source": []
  },
  {
   "cell_type": "code",
   "execution_count": null,
   "id": "56df0dc8",
   "metadata": {},
   "outputs": [],
   "source": []
  }
 ],
 "metadata": {
  "kernelspec": {
   "display_name": "Python 3 (ipykernel)",
   "language": "python",
   "name": "python3"
  },
  "language_info": {
   "codemirror_mode": {
    "name": "ipython",
    "version": 3
   },
   "file_extension": ".py",
   "mimetype": "text/x-python",
   "name": "python",
   "nbconvert_exporter": "python",
   "pygments_lexer": "ipython3",
   "version": "3.10.6"
  }
 },
 "nbformat": 4,
 "nbformat_minor": 5
}
