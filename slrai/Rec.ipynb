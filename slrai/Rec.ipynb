{
 "cells": [
  {
   "cell_type": "code",
   "execution_count": 41,
   "id": "7cda9d6f",
   "metadata": {},
   "outputs": [],
   "source": [
    "import cv2\n",
    "import numpy as np\n",
    "import os\n",
    "from matplotlib import pyplot as plt\n",
    "import time\n",
    "import mediapipe as mp"
   ]
  },
  {
   "cell_type": "code",
   "execution_count": 162,
   "id": "1f43b6b4",
   "metadata": {},
   "outputs": [],
   "source": [
    "# Path for exported data, numpy arrays\n",
    "DATA_PATH = os.path.join('M:\\Work\\MIT\\DatasetV3\\dataset') \n",
    "\n",
    "# Actions that we try to detect\n",
    "actions = np.array(['miss'])\n",
    "\n",
    "# Thirty videos worth of data\n",
    "start = 80\n",
    "stop = 100\n",
    "# Videos are going to be 30 frames in length\n",
    "sequence_length = 30"
   ]
  },
  {
   "cell_type": "code",
   "execution_count": 163,
   "id": "2d9c628e",
   "metadata": {},
   "outputs": [],
   "source": [
    "#os.makedirs(os.path.join(DATA_PATH, actions[0]))"
   ]
  },
  {
   "cell_type": "code",
   "execution_count": 164,
   "id": "6836e00b",
   "metadata": {},
   "outputs": [],
   "source": [
    "# for action in actions: \n",
    "#     for sequence in range(start,stop):\n",
    "#         try: \n",
    "#             os.makedirs(os.path.join(DATA_PATH, action, str(sequence)))\n",
    "#         except:\n",
    "#             pass"
   ]
  },
  {
   "cell_type": "code",
   "execution_count": 165,
   "id": "84c1f8ef",
   "metadata": {},
   "outputs": [],
   "source": [
    "import cv2\n",
    "import numpy as np\n",
    "\n",
    "cap = cv2.VideoCapture(0)\n",
    "\n",
    "for action in actions:\n",
    "        # Loop through sequences aka videos\n",
    "        for sequence in range(start,stop):\n",
    "            fourcc = cv2.VideoWriter_fourcc(*'mp4v')\n",
    "            out = cv2.VideoWriter(DATA_PATH+'\\\\'+action+'\\\\'+str(sequence)+'.mp4', fourcc, 25.0, (640, 480))\n",
    "            # Loop through video length aka sequence length\n",
    "            for frame_num in range(sequence_length):\n",
    "            # define the codec and create a VideoWriter object\n",
    "                # capture frame-by-frame\n",
    "                ret, frame = cap.read()\n",
    "\n",
    "                if ret:\n",
    "                    if frame_num == 0: \n",
    "                        cv2.putText(frame, 'STARTING COLLECTION', (120,200), \n",
    "                                   cv2.FONT_HERSHEY_SIMPLEX, 1, (0,255, 0), 4, cv2.LINE_AA)\n",
    "                        cv2.putText(frame, 'Collecting frames for {} Video Number {}'.format(action, sequence), (15,12), \n",
    "                                   cv2.FONT_HERSHEY_SIMPLEX, 0.5, (0, 0, 255), 1, cv2.LINE_AA)\n",
    "                        # Show to screen\n",
    "                        cv2.imshow('OpenCV Feed', frame)\n",
    "                        cv2.waitKey(2000)\n",
    "                    \n",
    "                    else: \n",
    "                        cv2.putText(frame, 'Collecting frames for {} Video Number {}'.format(action, sequence), (15,12), \n",
    "                                   cv2.FONT_HERSHEY_SIMPLEX, 0.5, (0, 0, 255), 1, cv2.LINE_AA)\n",
    "                        # Show to screen\n",
    "                        cv2.imshow('OpenCV Feed', frame)\n",
    "                    # write the frame to the output video\n",
    "                    \n",
    "\n",
    "                    # display the frame \n",
    "\n",
    "                    # check if the user wants to quit\n",
    "\n",
    "                    if cv2.waitKey(1) & 0xFF == ord('q'):\n",
    "                            break\n",
    "                out.write(frame)\n",
    "            # release the resources\n",
    "cap.release()\n",
    "out.release()\n",
    "cv2.destroyAllWindows()"
   ]
  },
  {
   "cell_type": "code",
   "execution_count": null,
   "id": "9624b15a",
   "metadata": {},
   "outputs": [],
   "source": []
  },
  {
   "cell_type": "code",
   "execution_count": null,
   "id": "e0c83af8",
   "metadata": {},
   "outputs": [],
   "source": []
  }
 ],
 "metadata": {
  "kernelspec": {
   "display_name": "Python 3 (ipykernel)",
   "language": "python",
   "name": "python3"
  },
  "language_info": {
   "codemirror_mode": {
    "name": "ipython",
    "version": 3
   },
   "file_extension": ".py",
   "mimetype": "text/x-python",
   "name": "python",
   "nbconvert_exporter": "python",
   "pygments_lexer": "ipython3",
   "version": "3.10.6"
  }
 },
 "nbformat": 4,
 "nbformat_minor": 5
}
