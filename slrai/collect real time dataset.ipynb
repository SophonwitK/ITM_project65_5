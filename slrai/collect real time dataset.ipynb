{
 "cells": [
  {
   "cell_type": "markdown",
   "id": "84a6de2d",
   "metadata": {},
   "source": [
    "# Install"
   ]
  },
  {
   "cell_type": "code",
   "execution_count": 1,
   "id": "2c9cda72",
   "metadata": {},
   "outputs": [
    {
     "name": "stdout",
     "output_type": "stream",
     "text": [
      "Requirement already satisfied: tensorflow in c:\\users\\sophonwit\\appdata\\local\\programs\\python\\python310\\lib\\site-packages (2.11.0)\n",
      "Requirement already satisfied: opencv-python in c:\\users\\sophonwit\\appdata\\local\\programs\\python\\python310\\lib\\site-packages (4.7.0.68)\n",
      "Requirement already satisfied: mediapipe in c:\\users\\sophonwit\\appdata\\local\\programs\\python\\python310\\lib\\site-packages (0.9.0.1)\n",
      "Requirement already satisfied: scikit-learn in c:\\users\\sophonwit\\appdata\\local\\programs\\python\\python310\\lib\\site-packages (1.2.1)\n",
      "Requirement already satisfied: matplotlib in c:\\users\\sophonwit\\appdata\\local\\programs\\python\\python310\\lib\\site-packages (3.6.3)\n",
      "Requirement already satisfied: tensorflow-intel==2.11.0 in c:\\users\\sophonwit\\appdata\\local\\programs\\python\\python310\\lib\\site-packages (from tensorflow) (2.11.0)\n",
      "Requirement already satisfied: six>=1.12.0 in c:\\users\\sophonwit\\appdata\\local\\programs\\python\\python310\\lib\\site-packages (from tensorflow-intel==2.11.0->tensorflow) (1.16.0)\n",
      "Requirement already satisfied: gast<=0.4.0,>=0.2.1 in c:\\users\\sophonwit\\appdata\\local\\programs\\python\\python310\\lib\\site-packages (from tensorflow-intel==2.11.0->tensorflow) (0.4.0)\n",
      "Requirement already satisfied: wrapt>=1.11.0 in c:\\users\\sophonwit\\appdata\\local\\programs\\python\\python310\\lib\\site-packages (from tensorflow-intel==2.11.0->tensorflow) (1.14.1)\n",
      "Requirement already satisfied: opt-einsum>=2.3.2 in c:\\users\\sophonwit\\appdata\\local\\programs\\python\\python310\\lib\\site-packages (from tensorflow-intel==2.11.0->tensorflow) (3.3.0)\n",
      "Requirement already satisfied: tensorflow-estimator<2.12,>=2.11.0 in c:\\users\\sophonwit\\appdata\\local\\programs\\python\\python310\\lib\\site-packages (from tensorflow-intel==2.11.0->tensorflow) (2.11.0)\n",
      "Requirement already satisfied: libclang>=13.0.0 in c:\\users\\sophonwit\\appdata\\local\\programs\\python\\python310\\lib\\site-packages (from tensorflow-intel==2.11.0->tensorflow) (15.0.6.1)\n",
      "Requirement already satisfied: absl-py>=1.0.0 in c:\\users\\sophonwit\\appdata\\local\\programs\\python\\python310\\lib\\site-packages (from tensorflow-intel==2.11.0->tensorflow) (1.4.0)\n",
      "Requirement already satisfied: protobuf<3.20,>=3.9.2 in c:\\users\\sophonwit\\appdata\\local\\programs\\python\\python310\\lib\\site-packages (from tensorflow-intel==2.11.0->tensorflow) (3.19.6)\n",
      "Requirement already satisfied: tensorboard<2.12,>=2.11 in c:\\users\\sophonwit\\appdata\\local\\programs\\python\\python310\\lib\\site-packages (from tensorflow-intel==2.11.0->tensorflow) (2.11.2)\n",
      "Requirement already satisfied: typing-extensions>=3.6.6 in c:\\users\\sophonwit\\appdata\\local\\programs\\python\\python310\\lib\\site-packages (from tensorflow-intel==2.11.0->tensorflow) (4.4.0)\n",
      "Requirement already satisfied: h5py>=2.9.0 in c:\\users\\sophonwit\\appdata\\local\\programs\\python\\python310\\lib\\site-packages (from tensorflow-intel==2.11.0->tensorflow) (3.8.0)\n",
      "Requirement already satisfied: grpcio<2.0,>=1.24.3 in c:\\users\\sophonwit\\appdata\\local\\programs\\python\\python310\\lib\\site-packages (from tensorflow-intel==2.11.0->tensorflow) (1.51.1)\n",
      "Requirement already satisfied: flatbuffers>=2.0 in c:\\users\\sophonwit\\appdata\\local\\programs\\python\\python310\\lib\\site-packages (from tensorflow-intel==2.11.0->tensorflow) (23.1.21)\n",
      "Requirement already satisfied: keras<2.12,>=2.11.0 in c:\\users\\sophonwit\\appdata\\local\\programs\\python\\python310\\lib\\site-packages (from tensorflow-intel==2.11.0->tensorflow) (2.11.0)\n",
      "Requirement already satisfied: google-pasta>=0.1.1 in c:\\users\\sophonwit\\appdata\\local\\programs\\python\\python310\\lib\\site-packages (from tensorflow-intel==2.11.0->tensorflow) (0.2.0)\n",
      "Requirement already satisfied: numpy>=1.20 in c:\\users\\sophonwit\\appdata\\local\\programs\\python\\python310\\lib\\site-packages (from tensorflow-intel==2.11.0->tensorflow) (1.24.1)\n",
      "Requirement already satisfied: astunparse>=1.6.0 in c:\\users\\sophonwit\\appdata\\local\\programs\\python\\python310\\lib\\site-packages (from tensorflow-intel==2.11.0->tensorflow) (1.6.3)\n",
      "Requirement already satisfied: termcolor>=1.1.0 in c:\\users\\sophonwit\\appdata\\local\\programs\\python\\python310\\lib\\site-packages (from tensorflow-intel==2.11.0->tensorflow) (2.2.0)\n",
      "Requirement already satisfied: tensorflow-io-gcs-filesystem>=0.23.1 in c:\\users\\sophonwit\\appdata\\local\\programs\\python\\python310\\lib\\site-packages (from tensorflow-intel==2.11.0->tensorflow) (0.30.0)\n",
      "Requirement already satisfied: packaging in c:\\users\\sophonwit\\appdata\\local\\programs\\python\\python310\\lib\\site-packages (from tensorflow-intel==2.11.0->tensorflow) (23.0)\n",
      "Requirement already satisfied: setuptools in c:\\users\\sophonwit\\appdata\\local\\programs\\python\\python310\\lib\\site-packages (from tensorflow-intel==2.11.0->tensorflow) (63.2.0)\n",
      "Requirement already satisfied: attrs>=19.1.0 in c:\\users\\sophonwit\\appdata\\local\\programs\\python\\python310\\lib\\site-packages (from mediapipe) (22.2.0)\n",
      "Requirement already satisfied: opencv-contrib-python in c:\\users\\sophonwit\\appdata\\local\\programs\\python\\python310\\lib\\site-packages (from mediapipe) (4.7.0.68)\n",
      "Requirement already satisfied: joblib>=1.1.1 in c:\\users\\sophonwit\\appdata\\local\\programs\\python\\python310\\lib\\site-packages (from scikit-learn) (1.2.0)\n",
      "Requirement already satisfied: threadpoolctl>=2.0.0 in c:\\users\\sophonwit\\appdata\\local\\programs\\python\\python310\\lib\\site-packages (from scikit-learn) (3.1.0)\n",
      "Requirement already satisfied: scipy>=1.3.2 in c:\\users\\sophonwit\\appdata\\local\\programs\\python\\python310\\lib\\site-packages (from scikit-learn) (1.10.0)\n",
      "Requirement already satisfied: contourpy>=1.0.1 in c:\\users\\sophonwit\\appdata\\local\\programs\\python\\python310\\lib\\site-packages (from matplotlib) (1.0.7)\n",
      "Requirement already satisfied: pillow>=6.2.0 in c:\\users\\sophonwit\\appdata\\local\\programs\\python\\python310\\lib\\site-packages (from matplotlib) (9.4.0)\n",
      "Requirement already satisfied: pyparsing>=2.2.1 in c:\\users\\sophonwit\\appdata\\local\\programs\\python\\python310\\lib\\site-packages (from matplotlib) (3.0.9)\n",
      "Requirement already satisfied: kiwisolver>=1.0.1 in c:\\users\\sophonwit\\appdata\\local\\programs\\python\\python310\\lib\\site-packages (from matplotlib) (1.4.4)\n",
      "Requirement already satisfied: cycler>=0.10 in c:\\users\\sophonwit\\appdata\\local\\programs\\python\\python310\\lib\\site-packages (from matplotlib) (0.11.0)\n",
      "Requirement already satisfied: fonttools>=4.22.0 in c:\\users\\sophonwit\\appdata\\local\\programs\\python\\python310\\lib\\site-packages (from matplotlib) (4.38.0)\n",
      "Requirement already satisfied: python-dateutil>=2.7 in c:\\users\\sophonwit\\appdata\\local\\programs\\python\\python310\\lib\\site-packages (from matplotlib) (2.8.2)\n",
      "Requirement already satisfied: wheel<1.0,>=0.23.0 in c:\\users\\sophonwit\\appdata\\local\\programs\\python\\python310\\lib\\site-packages (from astunparse>=1.6.0->tensorflow-intel==2.11.0->tensorflow) (0.38.4)\n",
      "Requirement already satisfied: tensorboard-plugin-wit>=1.6.0 in c:\\users\\sophonwit\\appdata\\local\\programs\\python\\python310\\lib\\site-packages (from tensorboard<2.12,>=2.11->tensorflow-intel==2.11.0->tensorflow) (1.8.1)\n",
      "Requirement already satisfied: google-auth<3,>=1.6.3 in c:\\users\\sophonwit\\appdata\\local\\programs\\python\\python310\\lib\\site-packages (from tensorboard<2.12,>=2.11->tensorflow-intel==2.11.0->tensorflow) (2.16.0)\n",
      "Requirement already satisfied: google-auth-oauthlib<0.5,>=0.4.1 in c:\\users\\sophonwit\\appdata\\local\\programs\\python\\python310\\lib\\site-packages (from tensorboard<2.12,>=2.11->tensorflow-intel==2.11.0->tensorflow) (0.4.6)\n",
      "Requirement already satisfied: markdown>=2.6.8 in c:\\users\\sophonwit\\appdata\\local\\programs\\python\\python310\\lib\\site-packages (from tensorboard<2.12,>=2.11->tensorflow-intel==2.11.0->tensorflow) (3.4.1)\n",
      "Requirement already satisfied: werkzeug>=1.0.1 in c:\\users\\sophonwit\\appdata\\local\\programs\\python\\python310\\lib\\site-packages (from tensorboard<2.12,>=2.11->tensorflow-intel==2.11.0->tensorflow) (2.2.2)\n",
      "Requirement already satisfied: requests<3,>=2.21.0 in c:\\users\\sophonwit\\appdata\\local\\programs\\python\\python310\\lib\\site-packages (from tensorboard<2.12,>=2.11->tensorflow-intel==2.11.0->tensorflow) (2.28.2)\n",
      "Requirement already satisfied: tensorboard-data-server<0.7.0,>=0.6.0 in c:\\users\\sophonwit\\appdata\\local\\programs\\python\\python310\\lib\\site-packages (from tensorboard<2.12,>=2.11->tensorflow-intel==2.11.0->tensorflow) (0.6.1)\n",
      "Requirement already satisfied: cachetools<6.0,>=2.0.0 in c:\\users\\sophonwit\\appdata\\local\\programs\\python\\python310\\lib\\site-packages (from google-auth<3,>=1.6.3->tensorboard<2.12,>=2.11->tensorflow-intel==2.11.0->tensorflow) (5.3.0)\n",
      "Requirement already satisfied: pyasn1-modules>=0.2.1 in c:\\users\\sophonwit\\appdata\\local\\programs\\python\\python310\\lib\\site-packages (from google-auth<3,>=1.6.3->tensorboard<2.12,>=2.11->tensorflow-intel==2.11.0->tensorflow) (0.2.8)\n",
      "Requirement already satisfied: rsa<5,>=3.1.4 in c:\\users\\sophonwit\\appdata\\local\\programs\\python\\python310\\lib\\site-packages (from google-auth<3,>=1.6.3->tensorboard<2.12,>=2.11->tensorflow-intel==2.11.0->tensorflow) (4.9)\n",
      "Requirement already satisfied: requests-oauthlib>=0.7.0 in c:\\users\\sophonwit\\appdata\\local\\programs\\python\\python310\\lib\\site-packages (from google-auth-oauthlib<0.5,>=0.4.1->tensorboard<2.12,>=2.11->tensorflow-intel==2.11.0->tensorflow) (1.3.1)\n",
      "Requirement already satisfied: urllib3<1.27,>=1.21.1 in c:\\users\\sophonwit\\appdata\\local\\programs\\python\\python310\\lib\\site-packages (from requests<3,>=2.21.0->tensorboard<2.12,>=2.11->tensorflow-intel==2.11.0->tensorflow) (1.26.14)\n",
      "Requirement already satisfied: idna<4,>=2.5 in c:\\users\\sophonwit\\appdata\\local\\programs\\python\\python310\\lib\\site-packages (from requests<3,>=2.21.0->tensorboard<2.12,>=2.11->tensorflow-intel==2.11.0->tensorflow) (3.4)\n",
      "Requirement already satisfied: charset-normalizer<4,>=2 in c:\\users\\sophonwit\\appdata\\local\\programs\\python\\python310\\lib\\site-packages (from requests<3,>=2.21.0->tensorboard<2.12,>=2.11->tensorflow-intel==2.11.0->tensorflow) (3.0.1)\n",
      "Requirement already satisfied: certifi>=2017.4.17 in c:\\users\\sophonwit\\appdata\\local\\programs\\python\\python310\\lib\\site-packages (from requests<3,>=2.21.0->tensorboard<2.12,>=2.11->tensorflow-intel==2.11.0->tensorflow) (2022.12.7)\n",
      "Requirement already satisfied: MarkupSafe>=2.1.1 in c:\\users\\sophonwit\\appdata\\local\\programs\\python\\python310\\lib\\site-packages (from werkzeug>=1.0.1->tensorboard<2.12,>=2.11->tensorflow-intel==2.11.0->tensorflow) (2.1.2)\n",
      "Requirement already satisfied: pyasn1<0.5.0,>=0.4.6 in c:\\users\\sophonwit\\appdata\\local\\programs\\python\\python310\\lib\\site-packages (from pyasn1-modules>=0.2.1->google-auth<3,>=1.6.3->tensorboard<2.12,>=2.11->tensorflow-intel==2.11.0->tensorflow) (0.4.8)\n",
      "Requirement already satisfied: oauthlib>=3.0.0 in c:\\users\\sophonwit\\appdata\\local\\programs\\python\\python310\\lib\\site-packages (from requests-oauthlib>=0.7.0->google-auth-oauthlib<0.5,>=0.4.1->tensorboard<2.12,>=2.11->tensorflow-intel==2.11.0->tensorflow) (3.2.2)\n"
     ]
    }
   ],
   "source": [
    "!pip install tensorflow opencv-python mediapipe scikit-learn matplotlib"
   ]
  },
  {
   "cell_type": "markdown",
   "id": "484ea376",
   "metadata": {},
   "source": [
    "# Import"
   ]
  },
  {
   "cell_type": "code",
   "execution_count": 3,
   "id": "661b79b8",
   "metadata": {},
   "outputs": [],
   "source": [
    "import cv2\n",
    "import numpy as np\n",
    "import os\n",
    "from matplotlib import pyplot as plt\n",
    "import time\n",
    "import mediapipe as mp"
   ]
  },
  {
   "cell_type": "markdown",
   "id": "aae73c6a",
   "metadata": {},
   "source": [
    "# Keypoint using MP Holistic"
   ]
  },
  {
   "cell_type": "code",
   "execution_count": 4,
   "id": "8b86a320",
   "metadata": {},
   "outputs": [],
   "source": [
    "mp_holistic = mp.solutions.holistic # Holistic model\n",
    "mp_drawing = mp.solutions.drawing_utils # Drawing utilities"
   ]
  },
  {
   "cell_type": "code",
   "execution_count": 5,
   "id": "666e076a",
   "metadata": {},
   "outputs": [],
   "source": [
    "def mediapipe_detection(image, model):\n",
    "    image = cv2.cvtColor(image, cv2.COLOR_BGR2RGB) # COLOR CONVERSION BGR 2 RGB\n",
    "    image.flags.writeable = False                  # Image is no longer writeable\n",
    "    results = model.process(image)                 # Make prediction\n",
    "    image.flags.writeable = True                   # Image is now writeable \n",
    "    image = cv2.cvtColor(image, cv2.COLOR_RGB2BGR) # COLOR COVERSION RGB 2 BGR\n",
    "    return image, results"
   ]
  },
  {
   "cell_type": "code",
   "execution_count": 6,
   "id": "2c0f7f00",
   "metadata": {},
   "outputs": [],
   "source": [
    "def draw_landmarks(image, results):\n",
    "   # mp_drawing.draw_landmarks(image, results.face_landmarks, mp_holistic.FACEMESH_TESSELATION) # Draw face connections\n",
    "    mp_drawing.draw_landmarks(image, results.pose_landmarks, mp_holistic.POSE_CONNECTIONS) # Draw pose connections\n",
    "    mp_drawing.draw_landmarks(image, results.left_hand_landmarks, mp_holistic.HAND_CONNECTIONS) # Draw left hand connections\n",
    "    mp_drawing.draw_landmarks(image, results.right_hand_landmarks, mp_holistic.HAND_CONNECTIONS) # Draw right hand connections"
   ]
  },
  {
   "cell_type": "code",
   "execution_count": 7,
   "id": "6b1e4720",
   "metadata": {},
   "outputs": [],
   "source": [
    "def draw_styled_landmarks(image, results):\n",
    "    # Draw face connections\n",
    "    #mp_drawing.draw_landmarks(image, results.face_landmarks, mp_holistic.FACEMESH_TESSELATION, \n",
    "                             #mp_drawing.DrawingSpec(color=(80,110,10), thickness=1, circle_radius=1), \n",
    "                             #mp_drawing.DrawingSpec(color=(80,256,121), thickness=1, circle_radius=1)) \n",
    "    # Draw pose connections\n",
    "    mp_drawing.draw_landmarks(image, results.pose_landmarks, mp_holistic.POSE_CONNECTIONS,\n",
    "                             mp_drawing.DrawingSpec(color=(80,22,10), thickness=2, circle_radius=4), \n",
    "                             mp_drawing.DrawingSpec(color=(80,44,121), thickness=2, circle_radius=2)\n",
    "                             ) \n",
    "    # Draw left hand connections\n",
    "    mp_drawing.draw_landmarks(image, results.left_hand_landmarks, mp_holistic.HAND_CONNECTIONS, \n",
    "                             mp_drawing.DrawingSpec(color=(121,22,76), thickness=2, circle_radius=4), \n",
    "                             mp_drawing.DrawingSpec(color=(121,44,250), thickness=2, circle_radius=2)\n",
    "                             ) \n",
    "    # Draw right hand connections  \n",
    "    mp_drawing.draw_landmarks(image, results.right_hand_landmarks, mp_holistic.HAND_CONNECTIONS, \n",
    "                             mp_drawing.DrawingSpec(color=(245,117,66), thickness=2, circle_radius=4), \n",
    "                             mp_drawing.DrawingSpec(color=(245,66,230), thickness=2, circle_radius=2)\n",
    "                             )"
   ]
  },
  {
   "cell_type": "code",
   "execution_count": 8,
   "id": "9a6b2eee",
   "metadata": {},
   "outputs": [],
   "source": [
    "def extract_keypoints(results):\n",
    "    pose = np.array([[res.x, res.y, res.z, res.visibility] for res in results.pose_landmarks.landmark]).flatten() if results.pose_landmarks else np.zeros(33*4)\n",
    "   # face = np.array([[res.x, res.y, res.z] for res in results.face_landmarks.landmark]).flatten() if results.face_landmarks else np.zeros(468*3)\n",
    "    lh = np.array([[res.x, res.y, res.z] for res in results.left_hand_landmarks.landmark]).flatten() if results.left_hand_landmarks else np.zeros(21*3)\n",
    "    rh = np.array([[res.x, res.y, res.z] for res in results.right_hand_landmarks.landmark]).flatten() if results.right_hand_landmarks else np.zeros(21*3)\n",
    "    return np.concatenate([pose,lh, rh])"
   ]
  },
  {
   "cell_type": "markdown",
   "id": "9fa2776d",
   "metadata": {},
   "source": [
    "# Setup Folders for Collection"
   ]
  },
  {
   "cell_type": "code",
   "execution_count": 73,
   "id": "d43dcc64",
   "metadata": {},
   "outputs": [],
   "source": [
    "# Path for exported data, numpy arrays\n",
    "DATA_PATH = os.path.join('M:\\Work\\MIT\\MIT_Sign_Language_Recognition\\AI\\Data') \n",
    "\n",
    "# Actions that we try to detect\n",
    "actions = np.array(['miss_new'])\n",
    "\n",
    "# Thirty videos worth of data\n",
    "start = 40\n",
    "stop = 50\n",
    "# Videos are going to be 30 frames in length\n",
    "sequence_length = 30"
   ]
  },
  {
   "cell_type": "code",
   "execution_count": 74,
   "id": "2b98e240",
   "metadata": {},
   "outputs": [],
   "source": [
    "for action in actions: \n",
    "    for sequence in range(start,stop):\n",
    "        try: \n",
    "            os.makedirs(os.path.join(DATA_PATH, action, str(sequence)))\n",
    "        except:\n",
    "            pass"
   ]
  },
  {
   "cell_type": "code",
   "execution_count": 75,
   "id": "49bdb85a",
   "metadata": {},
   "outputs": [],
   "source": [
    "cap = cv2.VideoCapture(0)\n",
    "# Set mediapipe model \n",
    "with mp_holistic.Holistic(min_detection_confidence=0.5, min_tracking_confidence=0.5) as holistic:\n",
    "    \n",
    "    # NEW LOOP\n",
    "    # Loop through actions\n",
    "    for action in actions:\n",
    "        # Loop through sequences aka videos\n",
    "        for sequence in range(start,stop):\n",
    "            # Loop through video length aka sequence length\n",
    "            for frame_num in range(sequence_length):\n",
    "\n",
    "                # Read feed\n",
    "                ret, frame = cap.read()\n",
    "\n",
    "                # Make detections\n",
    "                image, results = mediapipe_detection(frame, holistic)\n",
    "#                 print(results)\n",
    "\n",
    "                # Draw landmarks\n",
    "                draw_styled_landmarks(image, results)\n",
    "                \n",
    "                # NEW Apply wait logic\n",
    "                if frame_num == 0: \n",
    "                    cv2.putText(image, 'STARTING COLLECTION', (120,200), \n",
    "                               cv2.FONT_HERSHEY_SIMPLEX, 1, (0,255, 0), 4, cv2.LINE_AA)\n",
    "                    cv2.putText(image, 'Collecting frames for {} Video Number {}'.format(action, sequence), (15,12), \n",
    "                               cv2.FONT_HERSHEY_SIMPLEX, 0.5, (0, 0, 255), 1, cv2.LINE_AA)\n",
    "                    # Show to screen\n",
    "                    cv2.imshow('OpenCV Feed', image)\n",
    "                    cv2.waitKey(3000)\n",
    "                else: \n",
    "                    cv2.putText(image, 'Collecting frames for {} Video Number {}'.format(action, sequence), (15,12), \n",
    "                               cv2.FONT_HERSHEY_SIMPLEX, 0.5, (0, 0, 255), 1, cv2.LINE_AA)\n",
    "                    # Show to screen\n",
    "                    cv2.imshow('OpenCV Feed', image)\n",
    "                \n",
    "                # NEW Export keypoints\n",
    "                keypoints = extract_keypoints(results)\n",
    "                npy_path = os.path.join(DATA_PATH, action, str(sequence), str(frame_num))\n",
    "                np.save(npy_path, keypoints)\n",
    "\n",
    "                # Break gracefully\n",
    "                if cv2.waitKey(10) & 0xFF == ord('q'):\n",
    "                    break\n",
    "                    \n",
    "    cap.release()\n",
    "    cv2.destroyAllWindows()"
   ]
  },
  {
   "cell_type": "markdown",
   "id": "e7155da3",
   "metadata": {},
   "source": [
    "# Preprocess Data and Create Labels and Features"
   ]
  },
  {
   "cell_type": "code",
   "execution_count": 3,
   "id": "1f84e8a3",
   "metadata": {},
   "outputs": [],
   "source": [
    "from sklearn.model_selection import train_test_split\n",
    "from tensorflow.keras.utils import to_categorical\n",
    "import numpy as np\n",
    "import os\n",
    "actions = np.array(['angry','cry','disklike','easy',\n",
    "                    'fine','forgot','full','happy','hard','hello',\n",
    "                    'like','love','me','miss','sad','scare','stand','you'])\n",
    "no_sequences = 30\n",
    "sequence_length = 50\n",
    "DATA_PATH = os.path.join('M:\\Work\\MIT\\MIT_Sign_Language_Recognition\\AI\\DataTrain') "
   ]
  },
  {
   "cell_type": "code",
   "execution_count": 4,
   "id": "ff152a36",
   "metadata": {},
   "outputs": [],
   "source": [
    "label_map = {label:num for num, label in enumerate(actions)}"
   ]
  },
  {
   "cell_type": "code",
   "execution_count": 5,
   "id": "6440bb81",
   "metadata": {},
   "outputs": [
    {
     "data": {
      "text/plain": [
       "{'angry': 0,\n",
       " 'cry': 1,\n",
       " 'disklike': 2,\n",
       " 'easy': 3,\n",
       " 'fine': 4,\n",
       " 'forgot': 5,\n",
       " 'full': 6,\n",
       " 'happy': 7,\n",
       " 'hard': 8,\n",
       " 'hello': 9,\n",
       " 'like': 10,\n",
       " 'love': 11,\n",
       " 'me': 12,\n",
       " 'miss': 13,\n",
       " 'sad': 14,\n",
       " 'scare': 15,\n",
       " 'stand': 16,\n",
       " 'you': 17}"
      ]
     },
     "execution_count": 5,
     "metadata": {},
     "output_type": "execute_result"
    }
   ],
   "source": [
    "label_map"
   ]
  },
  {
   "cell_type": "code",
   "execution_count": 6,
   "id": "3aeb2f4f",
   "metadata": {},
   "outputs": [],
   "source": [
    "sequences, labels = [], []\n",
    "for action in actions:\n",
    "    for sequence in range(sequence_length):\n",
    "        window = []\n",
    "        for frame_num in range(no_sequences):\n",
    "            res = np.load(os.path.join(DATA_PATH, action, str(sequence), \"{}.npy\".format(frame_num)))\n",
    "            window.append(res)\n",
    "        sequences.append(window)\n",
    "        labels.append(label_map[action])"
   ]
  },
  {
   "cell_type": "code",
   "execution_count": 7,
   "id": "12e2a65a",
   "metadata": {},
   "outputs": [
    {
     "data": {
      "text/plain": [
       "(900, 30, 258)"
      ]
     },
     "execution_count": 7,
     "metadata": {},
     "output_type": "execute_result"
    }
   ],
   "source": [
    "np.array(sequences).shape"
   ]
  },
  {
   "cell_type": "code",
   "execution_count": 8,
   "id": "ddbb17e3",
   "metadata": {},
   "outputs": [
    {
     "data": {
      "text/plain": [
       "(900,)"
      ]
     },
     "execution_count": 8,
     "metadata": {},
     "output_type": "execute_result"
    }
   ],
   "source": [
    "np.array(labels).shape"
   ]
  },
  {
   "cell_type": "code",
   "execution_count": 9,
   "id": "b3a2376b",
   "metadata": {},
   "outputs": [],
   "source": [
    "X = np.array(sequences)"
   ]
  },
  {
   "cell_type": "code",
   "execution_count": 10,
   "id": "b68fd0ae",
   "metadata": {},
   "outputs": [
    {
     "data": {
      "text/plain": [
       "(900, 30, 258)"
      ]
     },
     "execution_count": 10,
     "metadata": {},
     "output_type": "execute_result"
    }
   ],
   "source": [
    "X.shape"
   ]
  },
  {
   "cell_type": "code",
   "execution_count": 11,
   "id": "88bf1eaf",
   "metadata": {},
   "outputs": [],
   "source": [
    "y = to_categorical(labels).astype(int)"
   ]
  },
  {
   "cell_type": "code",
   "execution_count": 12,
   "id": "99294057",
   "metadata": {},
   "outputs": [
    {
     "data": {
      "text/plain": [
       "array([[1, 0, 0, ..., 0, 0, 0],\n",
       "       [1, 0, 0, ..., 0, 0, 0],\n",
       "       [1, 0, 0, ..., 0, 0, 0],\n",
       "       ...,\n",
       "       [0, 0, 0, ..., 0, 0, 1],\n",
       "       [0, 0, 0, ..., 0, 0, 1],\n",
       "       [0, 0, 0, ..., 0, 0, 1]])"
      ]
     },
     "execution_count": 12,
     "metadata": {},
     "output_type": "execute_result"
    }
   ],
   "source": [
    "y"
   ]
  },
  {
   "cell_type": "code",
   "execution_count": 13,
   "id": "f05d45b0",
   "metadata": {},
   "outputs": [],
   "source": [
    "X_train, X_test, y_train, y_test = train_test_split(X, y, test_size=0.05)"
   ]
  },
  {
   "cell_type": "code",
   "execution_count": 14,
   "id": "229e2c74",
   "metadata": {},
   "outputs": [
    {
     "data": {
      "text/plain": [
       "(45, 18)"
      ]
     },
     "execution_count": 14,
     "metadata": {},
     "output_type": "execute_result"
    }
   ],
   "source": [
    "y_test.shape"
   ]
  },
  {
   "cell_type": "markdown",
   "id": "69086372",
   "metadata": {},
   "source": [
    "# Build and Train LSTM Neural Network"
   ]
  },
  {
   "cell_type": "code",
   "execution_count": 15,
   "id": "c9dc8fc6",
   "metadata": {},
   "outputs": [],
   "source": [
    "from tensorflow.keras.models import Sequential\n",
    "from tensorflow.keras.layers import LSTM, Dense\n",
    "from tensorflow.keras.callbacks import TensorBoard\n",
    "from keras.layers import Dropout"
   ]
  },
  {
   "cell_type": "code",
   "execution_count": 16,
   "id": "69d87cb2",
   "metadata": {},
   "outputs": [],
   "source": [
    "og_dir = os.path.join('Logs')\n",
    "tb_callback = TensorBoard(log_dir=\"M:\\Work\\MIT\\logs\")"
   ]
  },
  {
   "cell_type": "code",
   "execution_count": 17,
   "id": "58df810a",
   "metadata": {},
   "outputs": [],
   "source": [
    "model = Sequential()\n",
    "model.add(LSTM(64, return_sequences=True, activation='relu', input_shape=(30,258)))\n",
    "model.add(LSTM(128, return_sequences=True, activation='relu'))\n",
    "model.add(LSTM(64, return_sequences=False, activation='relu'))\n",
    "model.add(Dense(64, activation='relu'))\n",
    "model.add(Dense(32, activation='relu'))\n",
    "model.add(Dense(actions.shape[0], activation='softmax'))"
   ]
  },
  {
   "cell_type": "code",
   "execution_count": 18,
   "id": "e9e33b9f",
   "metadata": {},
   "outputs": [],
   "source": [
    "model.compile(optimizer='Adam', loss='categorical_crossentropy', metrics=['categorical_accuracy'])"
   ]
  },
  {
   "cell_type": "code",
   "execution_count": null,
   "id": "fd01f8a0",
   "metadata": {},
   "outputs": [
    {
     "name": "stdout",
     "output_type": "stream",
     "text": [
      "Epoch 1/300\n",
      "27/27 [==============================] - 3s 28ms/step - loss: 2.8689 - categorical_accuracy: 0.0795\n",
      "Epoch 2/300\n",
      "27/27 [==============================] - 1s 27ms/step - loss: 2.8717 - categorical_accuracy: 0.0725\n",
      "Epoch 3/300\n",
      "27/27 [==============================] - 1s 28ms/step - loss: 2.7163 - categorical_accuracy: 0.1135\n",
      "Epoch 4/300\n",
      "27/27 [==============================] - 1s 28ms/step - loss: 2.7686 - categorical_accuracy: 0.1205\n",
      "Epoch 5/300\n",
      "27/27 [==============================] - 1s 29ms/step - loss: 2.4741 - categorical_accuracy: 0.1719\n",
      "Epoch 6/300\n",
      "27/27 [==============================] - 1s 30ms/step - loss: 2.2402 - categorical_accuracy: 0.2000\n",
      "Epoch 7/300\n",
      "27/27 [==============================] - 1s 32ms/step - loss: 1.9576 - categorical_accuracy: 0.2667\n",
      "Epoch 8/300\n",
      "27/27 [==============================] - 1s 32ms/step - loss: 1.7188 - categorical_accuracy: 0.3392\n",
      "Epoch 9/300\n",
      "27/27 [==============================] - 1s 31ms/step - loss: 1.7458 - categorical_accuracy: 0.3240\n",
      "Epoch 10/300\n",
      "27/27 [==============================] - 1s 31ms/step - loss: 1.4127 - categorical_accuracy: 0.4421\n",
      "Epoch 11/300\n",
      "27/27 [==============================] - 1s 31ms/step - loss: 1.3491 - categorical_accuracy: 0.4550\n",
      "Epoch 12/300\n",
      "27/27 [==============================] - 1s 32ms/step - loss: 1.2750 - categorical_accuracy: 0.5053\n",
      "Epoch 13/300\n",
      "27/27 [==============================] - 1s 31ms/step - loss: 1.1270 - categorical_accuracy: 0.5415\n",
      "Epoch 14/300\n",
      "27/27 [==============================] - 1s 31ms/step - loss: 1.0400 - categorical_accuracy: 0.5754\n",
      "Epoch 15/300\n",
      "27/27 [==============================] - 1s 31ms/step - loss: 1.2602 - categorical_accuracy: 0.4982\n",
      "Epoch 16/300\n",
      "27/27 [==============================] - 1s 32ms/step - loss: 1.0016 - categorical_accuracy: 0.6094\n",
      "Epoch 17/300\n",
      "27/27 [==============================] - 1s 32ms/step - loss: 0.8953 - categorical_accuracy: 0.6327\n",
      "Epoch 18/300\n",
      "27/27 [==============================] - 1s 31ms/step - loss: 0.8612 - categorical_accuracy: 0.6550\n",
      "Epoch 19/300\n",
      "27/27 [==============================] - 1s 31ms/step - loss: 0.8301 - categorical_accuracy: 0.6877\n",
      "Epoch 20/300\n",
      "27/27 [==============================] - 1s 32ms/step - loss: 0.8301 - categorical_accuracy: 0.6819\n",
      "Epoch 21/300\n",
      "27/27 [==============================] - 1s 31ms/step - loss: 0.7567 - categorical_accuracy: 0.7041\n",
      "Epoch 22/300\n",
      "27/27 [==============================] - 1s 32ms/step - loss: 0.7510 - categorical_accuracy: 0.7041\n",
      "Epoch 23/300\n",
      "27/27 [==============================] - 1s 31ms/step - loss: 0.6554 - categorical_accuracy: 0.7520\n",
      "Epoch 24/300\n",
      "27/27 [==============================] - 1s 31ms/step - loss: 0.8249 - categorical_accuracy: 0.6760\n",
      "Epoch 25/300\n",
      "27/27 [==============================] - 1s 32ms/step - loss: 0.6087 - categorical_accuracy: 0.7708\n",
      "Epoch 26/300\n",
      "27/27 [==============================] - 1s 31ms/step - loss: 0.6076 - categorical_accuracy: 0.7719\n",
      "Epoch 27/300\n",
      "27/27 [==============================] - 1s 32ms/step - loss: 0.5050 - categorical_accuracy: 0.8129\n",
      "Epoch 28/300\n",
      "27/27 [==============================] - 1s 32ms/step - loss: 0.5782 - categorical_accuracy: 0.7719\n",
      "Epoch 29/300\n",
      "27/27 [==============================] - 1s 33ms/step - loss: 0.4845 - categorical_accuracy: 0.8234\n",
      "Epoch 30/300\n",
      "27/27 [==============================] - 1s 31ms/step - loss: 0.5021 - categorical_accuracy: 0.7988\n",
      "Epoch 31/300\n",
      "27/27 [==============================] - 1s 32ms/step - loss: 0.5228 - categorical_accuracy: 0.7953\n",
      "Epoch 32/300\n",
      "27/27 [==============================] - 1s 32ms/step - loss: 0.6475 - categorical_accuracy: 0.7450\n",
      "Epoch 33/300\n",
      "27/27 [==============================] - 1s 31ms/step - loss: 0.4714 - categorical_accuracy: 0.8035\n",
      "Epoch 34/300\n",
      "27/27 [==============================] - 1s 32ms/step - loss: 0.4195 - categorical_accuracy: 0.8386\n",
      "Epoch 35/300\n",
      "27/27 [==============================] - 1s 32ms/step - loss: 0.4061 - categorical_accuracy: 0.8608\n",
      "Epoch 36/300\n",
      "27/27 [==============================] - 1s 32ms/step - loss: 0.5499 - categorical_accuracy: 0.7871\n",
      "Epoch 37/300\n",
      "27/27 [==============================] - 1s 33ms/step - loss: 0.4281 - categorical_accuracy: 0.8187\n",
      "Epoch 38/300\n",
      "27/27 [==============================] - 1s 32ms/step - loss: 0.4040 - categorical_accuracy: 0.8526\n",
      "Epoch 39/300\n",
      "27/27 [==============================] - 1s 32ms/step - loss: 0.3614 - categorical_accuracy: 0.8503\n",
      "Epoch 40/300\n",
      "27/27 [==============================] - 1s 32ms/step - loss: 0.2850 - categorical_accuracy: 0.8854\n",
      "Epoch 41/300\n",
      "27/27 [==============================] - 1s 33ms/step - loss: 0.2435 - categorical_accuracy: 0.9053\n",
      "Epoch 42/300\n",
      "27/27 [==============================] - 1s 32ms/step - loss: 0.2343 - categorical_accuracy: 0.9181\n",
      "Epoch 43/300\n",
      "27/27 [==============================] - 1s 33ms/step - loss: 0.1874 - categorical_accuracy: 0.9345\n",
      "Epoch 44/300\n",
      "27/27 [==============================] - 1s 33ms/step - loss: 0.5753 - categorical_accuracy: 0.7731\n",
      "Epoch 45/300\n",
      "27/27 [==============================] - 1s 32ms/step - loss: 0.4753 - categorical_accuracy: 0.8339\n",
      "Epoch 46/300\n",
      "27/27 [==============================] - 1s 32ms/step - loss: 0.3015 - categorical_accuracy: 0.8889\n",
      "Epoch 47/300\n",
      "27/27 [==============================] - 1s 32ms/step - loss: 0.2468 - categorical_accuracy: 0.9135\n",
      "Epoch 48/300\n",
      "27/27 [==============================] - 1s 34ms/step - loss: 0.2925 - categorical_accuracy: 0.9029\n",
      "Epoch 49/300\n",
      "27/27 [==============================] - 1s 33ms/step - loss: 0.1750 - categorical_accuracy: 0.9474\n",
      "Epoch 50/300\n",
      "27/27 [==============================] - 1s 33ms/step - loss: 0.2871 - categorical_accuracy: 0.8982\n",
      "Epoch 51/300\n",
      "27/27 [==============================] - 1s 33ms/step - loss: 0.2579 - categorical_accuracy: 0.9076\n",
      "Epoch 52/300\n",
      "27/27 [==============================] - 1s 33ms/step - loss: 0.3245 - categorical_accuracy: 0.8737\n",
      "Epoch 53/300\n",
      "27/27 [==============================] - 1s 32ms/step - loss: 0.2362 - categorical_accuracy: 0.9263\n",
      "Epoch 54/300\n",
      "27/27 [==============================] - 1s 32ms/step - loss: 0.2007 - categorical_accuracy: 0.9333\n",
      "Epoch 55/300\n",
      "27/27 [==============================] - 1s 33ms/step - loss: 0.2164 - categorical_accuracy: 0.9193\n",
      "Epoch 56/300\n",
      "27/27 [==============================] - 1s 34ms/step - loss: 0.1875 - categorical_accuracy: 0.9298\n",
      "Epoch 57/300\n",
      "27/27 [==============================] - 1s 34ms/step - loss: 0.2788 - categorical_accuracy: 0.9006\n",
      "Epoch 58/300\n",
      "27/27 [==============================] - 1s 34ms/step - loss: 0.3178 - categorical_accuracy: 0.8819\n",
      "Epoch 59/300\n",
      "27/27 [==============================] - 1s 33ms/step - loss: 0.2435 - categorical_accuracy: 0.9170\n",
      "Epoch 60/300\n",
      "27/27 [==============================] - 1s 33ms/step - loss: 0.2158 - categorical_accuracy: 0.9158\n",
      "Epoch 61/300\n",
      "27/27 [==============================] - 1s 33ms/step - loss: 0.1398 - categorical_accuracy: 0.9567\n",
      "Epoch 62/300\n",
      "27/27 [==============================] - 1s 33ms/step - loss: 0.1531 - categorical_accuracy: 0.9439\n",
      "Epoch 63/300\n",
      "27/27 [==============================] - 1s 32ms/step - loss: 0.2408 - categorical_accuracy: 0.9158\n",
      "Epoch 64/300\n",
      "27/27 [==============================] - 1s 33ms/step - loss: 0.1885 - categorical_accuracy: 0.9251\n",
      "Epoch 65/300\n",
      "27/27 [==============================] - 1s 33ms/step - loss: 0.1336 - categorical_accuracy: 0.9497\n",
      "Epoch 66/300\n",
      "27/27 [==============================] - 1s 33ms/step - loss: 0.1207 - categorical_accuracy: 0.9614\n",
      "Epoch 67/300\n",
      "27/27 [==============================] - 1s 33ms/step - loss: 0.1111 - categorical_accuracy: 0.9637\n",
      "Epoch 68/300\n",
      "27/27 [==============================] - 1s 34ms/step - loss: 0.1602 - categorical_accuracy: 0.9450\n",
      "Epoch 69/300\n",
      "27/27 [==============================] - 1s 33ms/step - loss: 0.5280 - categorical_accuracy: 0.8398\n",
      "Epoch 70/300\n",
      "27/27 [==============================] - 1s 33ms/step - loss: 0.5380 - categorical_accuracy: 0.8234\n",
      "Epoch 71/300\n",
      "27/27 [==============================] - 1s 32ms/step - loss: 0.4247 - categorical_accuracy: 0.8573\n",
      "Epoch 72/300\n",
      "27/27 [==============================] - 1s 33ms/step - loss: 0.2310 - categorical_accuracy: 0.9158\n",
      "Epoch 73/300\n",
      "27/27 [==============================] - 1s 33ms/step - loss: 0.1895 - categorical_accuracy: 0.9333\n",
      "Epoch 74/300\n",
      "27/27 [==============================] - 1s 34ms/step - loss: 0.2032 - categorical_accuracy: 0.9228\n",
      "Epoch 75/300\n",
      "27/27 [==============================] - 1s 33ms/step - loss: 0.1133 - categorical_accuracy: 0.9661\n",
      "Epoch 76/300\n",
      "27/27 [==============================] - 1s 33ms/step - loss: 0.1107 - categorical_accuracy: 0.9602\n",
      "Epoch 77/300\n",
      "27/27 [==============================] - 1s 34ms/step - loss: 0.1035 - categorical_accuracy: 0.9684\n",
      "Epoch 78/300\n",
      "27/27 [==============================] - 1s 33ms/step - loss: 0.0727 - categorical_accuracy: 0.9731\n",
      "Epoch 79/300\n",
      "27/27 [==============================] - 1s 34ms/step - loss: 0.1000 - categorical_accuracy: 0.9661\n",
      "Epoch 80/300\n",
      "27/27 [==============================] - 1s 36ms/step - loss: 0.1061 - categorical_accuracy: 0.9614\n",
      "Epoch 81/300\n",
      "27/27 [==============================] - 1s 36ms/step - loss: 0.1341 - categorical_accuracy: 0.9544\n",
      "Epoch 82/300\n",
      "27/27 [==============================] - 1s 37ms/step - loss: 0.0701 - categorical_accuracy: 0.9789\n",
      "Epoch 83/300\n",
      "27/27 [==============================] - 1s 36ms/step - loss: 0.0707 - categorical_accuracy: 0.9766\n",
      "Epoch 84/300\n",
      "27/27 [==============================] - 1s 35ms/step - loss: 0.3993 - categorical_accuracy: 0.8784\n",
      "Epoch 85/300\n",
      "27/27 [==============================] - 1s 34ms/step - loss: 0.6409 - categorical_accuracy: 0.7860\n",
      "Epoch 86/300\n",
      "27/27 [==============================] - 1s 34ms/step - loss: 0.2270 - categorical_accuracy: 0.9240\n",
      "Epoch 87/300\n",
      "27/27 [==============================] - 1s 34ms/step - loss: 0.1821 - categorical_accuracy: 0.9240\n",
      "Epoch 88/300\n",
      "27/27 [==============================] - 1s 33ms/step - loss: 0.1085 - categorical_accuracy: 0.9614\n",
      "Epoch 89/300\n",
      "27/27 [==============================] - 1s 34ms/step - loss: 0.0611 - categorical_accuracy: 0.9836\n",
      "Epoch 90/300\n",
      "27/27 [==============================] - 1s 35ms/step - loss: 0.0798 - categorical_accuracy: 0.9719\n",
      "Epoch 91/300\n",
      "27/27 [==============================] - 1s 34ms/step - loss: 0.1393 - categorical_accuracy: 0.9556\n",
      "Epoch 92/300\n",
      "27/27 [==============================] - 1s 34ms/step - loss: 0.3012 - categorical_accuracy: 0.8959\n",
      "Epoch 93/300\n",
      "27/27 [==============================] - 1s 33ms/step - loss: 0.1982 - categorical_accuracy: 0.9287\n",
      "Epoch 94/300\n",
      "27/27 [==============================] - 1s 34ms/step - loss: 0.1323 - categorical_accuracy: 0.9509\n",
      "Epoch 95/300\n",
      "27/27 [==============================] - 1s 36ms/step - loss: 0.0673 - categorical_accuracy: 0.9801\n",
      "Epoch 96/300\n",
      "27/27 [==============================] - 1s 34ms/step - loss: 0.0626 - categorical_accuracy: 0.9778\n",
      "Epoch 97/300\n",
      "27/27 [==============================] - 1s 34ms/step - loss: 0.0500 - categorical_accuracy: 0.9801\n",
      "Epoch 98/300\n",
      "27/27 [==============================] - 1s 35ms/step - loss: 0.0836 - categorical_accuracy: 0.9731\n",
      "Epoch 99/300\n",
      "27/27 [==============================] - 1s 35ms/step - loss: 0.0774 - categorical_accuracy: 0.9673\n",
      "Epoch 100/300\n",
      "27/27 [==============================] - 1s 36ms/step - loss: 0.4147 - categorical_accuracy: 0.8760\n",
      "Epoch 101/300\n",
      "27/27 [==============================] - 1s 34ms/step - loss: 0.2867 - categorical_accuracy: 0.8994\n",
      "Epoch 102/300\n",
      "27/27 [==============================] - 1s 33ms/step - loss: 0.0894 - categorical_accuracy: 0.9673\n",
      "Epoch 103/300\n",
      "27/27 [==============================] - 1s 33ms/step - loss: 0.1035 - categorical_accuracy: 0.9684\n",
      "Epoch 104/300\n",
      "27/27 [==============================] - 1s 33ms/step - loss: 0.1508 - categorical_accuracy: 0.9520\n",
      "Epoch 105/300\n",
      "27/27 [==============================] - 1s 34ms/step - loss: 0.0817 - categorical_accuracy: 0.9766\n",
      "Epoch 106/300\n",
      "27/27 [==============================] - 1s 33ms/step - loss: 0.0659 - categorical_accuracy: 0.9766\n",
      "Epoch 107/300\n",
      "27/27 [==============================] - 1s 35ms/step - loss: 0.0678 - categorical_accuracy: 0.9778\n",
      "Epoch 108/300\n",
      "27/27 [==============================] - 1s 33ms/step - loss: 0.0531 - categorical_accuracy: 0.9825\n",
      "Epoch 109/300\n",
      "27/27 [==============================] - 1s 36ms/step - loss: 0.0515 - categorical_accuracy: 0.9801\n",
      "Epoch 110/300\n",
      "27/27 [==============================] - 1s 34ms/step - loss: 0.0562 - categorical_accuracy: 0.9836\n",
      "Epoch 111/300\n",
      "27/27 [==============================] - 1s 34ms/step - loss: 0.0285 - categorical_accuracy: 0.9895\n",
      "Epoch 112/300\n",
      "27/27 [==============================] - 1s 34ms/step - loss: 0.1630 - categorical_accuracy: 0.9497\n",
      "Epoch 113/300\n",
      "27/27 [==============================] - 1s 33ms/step - loss: 0.2340 - categorical_accuracy: 0.9146\n",
      "Epoch 114/300\n",
      "27/27 [==============================] - 1s 34ms/step - loss: 0.0542 - categorical_accuracy: 0.9813\n",
      "Epoch 115/300\n",
      "27/27 [==============================] - 1s 33ms/step - loss: 0.0557 - categorical_accuracy: 0.9836\n",
      "Epoch 116/300\n",
      "27/27 [==============================] - 1s 34ms/step - loss: 0.0512 - categorical_accuracy: 0.9860\n",
      "Epoch 117/300\n",
      "27/27 [==============================] - 1s 33ms/step - loss: 0.0322 - categorical_accuracy: 0.9918\n",
      "Epoch 118/300\n",
      "27/27 [==============================] - 1s 33ms/step - loss: 0.0262 - categorical_accuracy: 0.9930\n",
      "Epoch 119/300\n",
      "27/27 [==============================] - 1s 34ms/step - loss: 0.0235 - categorical_accuracy: 0.9942\n",
      "Epoch 120/300\n",
      "27/27 [==============================] - 1s 34ms/step - loss: 0.2738 - categorical_accuracy: 0.9251\n",
      "Epoch 121/300\n",
      "27/27 [==============================] - 1s 34ms/step - loss: 0.3442 - categorical_accuracy: 0.8772\n",
      "Epoch 122/300\n",
      "27/27 [==============================] - 1s 35ms/step - loss: 0.1252 - categorical_accuracy: 0.9556\n",
      "Epoch 123/300\n",
      "27/27 [==============================] - 1s 34ms/step - loss: 0.0787 - categorical_accuracy: 0.9754\n",
      "Epoch 124/300\n",
      "27/27 [==============================] - 1s 35ms/step - loss: 0.0534 - categorical_accuracy: 0.9860\n",
      "Epoch 125/300\n",
      "27/27 [==============================] - 1s 35ms/step - loss: 0.0575 - categorical_accuracy: 0.9766\n",
      "Epoch 126/300\n",
      "27/27 [==============================] - 1s 37ms/step - loss: 0.1798 - categorical_accuracy: 0.9450\n",
      "Epoch 127/300\n",
      "27/27 [==============================] - 1s 34ms/step - loss: 0.1436 - categorical_accuracy: 0.9497\n",
      "Epoch 128/300\n",
      "27/27 [==============================] - 1s 34ms/step - loss: 0.1524 - categorical_accuracy: 0.9450\n",
      "Epoch 129/300\n",
      "27/27 [==============================] - 1s 34ms/step - loss: 0.0983 - categorical_accuracy: 0.9673\n",
      "Epoch 130/300\n",
      "27/27 [==============================] - 1s 34ms/step - loss: 0.0666 - categorical_accuracy: 0.9766\n",
      "Epoch 131/300\n",
      "27/27 [==============================] - 1s 35ms/step - loss: 0.0314 - categorical_accuracy: 0.9906\n",
      "Epoch 132/300\n",
      "27/27 [==============================] - 1s 34ms/step - loss: 0.0503 - categorical_accuracy: 0.9801\n",
      "Epoch 133/300\n",
      "27/27 [==============================] - 1s 34ms/step - loss: 0.0347 - categorical_accuracy: 0.9871\n",
      "Epoch 134/300\n",
      "27/27 [==============================] - 1s 35ms/step - loss: 0.0236 - categorical_accuracy: 0.9906\n",
      "Epoch 135/300\n",
      "27/27 [==============================] - 1s 35ms/step - loss: 0.0346 - categorical_accuracy: 0.9930\n",
      "Epoch 136/300\n",
      "27/27 [==============================] - 1s 35ms/step - loss: 0.0376 - categorical_accuracy: 0.9906\n",
      "Epoch 137/300\n",
      "27/27 [==============================] - 1s 35ms/step - loss: 0.0552 - categorical_accuracy: 0.9871\n",
      "Epoch 138/300\n",
      "27/27 [==============================] - 1s 35ms/step - loss: 0.2136 - categorical_accuracy: 0.9497\n",
      "Epoch 139/300\n",
      "27/27 [==============================] - 1s 36ms/step - loss: 0.1494 - categorical_accuracy: 0.9544\n",
      "Epoch 140/300\n",
      "27/27 [==============================] - 1s 35ms/step - loss: 0.0671 - categorical_accuracy: 0.9743\n",
      "Epoch 141/300\n",
      "27/27 [==============================] - 1s 35ms/step - loss: 0.0292 - categorical_accuracy: 0.9918\n",
      "Epoch 142/300\n",
      "27/27 [==============================] - 1s 35ms/step - loss: 0.0086 - categorical_accuracy: 0.9977\n",
      "Epoch 143/300\n",
      "27/27 [==============================] - 1s 35ms/step - loss: 0.0036 - categorical_accuracy: 1.0000\n",
      "Epoch 144/300\n",
      "27/27 [==============================] - 1s 34ms/step - loss: 0.0027 - categorical_accuracy: 1.0000\n",
      "Epoch 145/300\n"
     ]
    },
    {
     "name": "stdout",
     "output_type": "stream",
     "text": [
      "27/27 [==============================] - 1s 35ms/step - loss: 0.0017 - categorical_accuracy: 1.0000\n",
      "Epoch 146/300\n",
      "27/27 [==============================] - 1s 35ms/step - loss: 0.0014 - categorical_accuracy: 1.0000\n",
      "Epoch 147/300\n",
      "27/27 [==============================] - 1s 35ms/step - loss: 0.0011 - categorical_accuracy: 1.0000\n",
      "Epoch 148/300\n",
      "27/27 [==============================] - 1s 35ms/step - loss: 9.3734e-04 - categorical_accuracy: 1.0000\n",
      "Epoch 149/300\n",
      "27/27 [==============================] - 1s 34ms/step - loss: 8.3851e-04 - categorical_accuracy: 1.0000\n",
      "Epoch 150/300\n",
      "27/27 [==============================] - 1s 34ms/step - loss: 7.4455e-04 - categorical_accuracy: 1.0000\n",
      "Epoch 151/300\n",
      "27/27 [==============================] - 1s 34ms/step - loss: 6.7426e-04 - categorical_accuracy: 1.0000\n",
      "Epoch 152/300\n",
      "27/27 [==============================] - 1s 35ms/step - loss: 6.0592e-04 - categorical_accuracy: 1.0000\n",
      "Epoch 153/300\n",
      "27/27 [==============================] - 1s 35ms/step - loss: 5.4844e-04 - categorical_accuracy: 1.0000\n",
      "Epoch 154/300\n",
      "27/27 [==============================] - 1s 36ms/step - loss: 5.1279e-04 - categorical_accuracy: 1.0000\n",
      "Epoch 155/300\n",
      "27/27 [==============================] - 1s 35ms/step - loss: 4.6454e-04 - categorical_accuracy: 1.0000\n",
      "Epoch 156/300\n",
      "27/27 [==============================] - 1s 35ms/step - loss: 4.2422e-04 - categorical_accuracy: 1.0000\n",
      "Epoch 157/300\n",
      "27/27 [==============================] - 1s 34ms/step - loss: 4.0384e-04 - categorical_accuracy: 1.0000\n",
      "Epoch 158/300\n",
      "27/27 [==============================] - 1s 34ms/step - loss: 3.7528e-04 - categorical_accuracy: 1.0000\n",
      "Epoch 159/300\n",
      "27/27 [==============================] - 1s 35ms/step - loss: 3.4113e-04 - categorical_accuracy: 1.0000\n",
      "Epoch 160/300\n",
      "27/27 [==============================] - 1s 35ms/step - loss: 3.2359e-04 - categorical_accuracy: 1.0000\n",
      "Epoch 161/300\n",
      "27/27 [==============================] - 1s 34ms/step - loss: 3.0041e-04 - categorical_accuracy: 1.0000\n",
      "Epoch 162/300\n",
      "27/27 [==============================] - 1s 34ms/step - loss: 2.8319e-04 - categorical_accuracy: 1.0000\n",
      "Epoch 163/300\n",
      "27/27 [==============================] - 1s 34ms/step - loss: 2.6806e-04 - categorical_accuracy: 1.0000\n",
      "Epoch 164/300\n",
      "27/27 [==============================] - 1s 35ms/step - loss: 2.5583e-04 - categorical_accuracy: 1.0000\n",
      "Epoch 165/300\n",
      "27/27 [==============================] - 1s 34ms/step - loss: 2.3842e-04 - categorical_accuracy: 1.0000\n",
      "Epoch 166/300\n",
      "27/27 [==============================] - 1s 34ms/step - loss: 2.2464e-04 - categorical_accuracy: 1.0000\n",
      "Epoch 167/300\n",
      "27/27 [==============================] - 1s 34ms/step - loss: 2.1622e-04 - categorical_accuracy: 1.0000\n",
      "Epoch 168/300\n",
      "27/27 [==============================] - 1s 34ms/step - loss: 2.0484e-04 - categorical_accuracy: 1.0000\n",
      "Epoch 169/300\n",
      "27/27 [==============================] - 1s 35ms/step - loss: 1.9220e-04 - categorical_accuracy: 1.0000\n",
      "Epoch 170/300\n",
      "27/27 [==============================] - 1s 35ms/step - loss: 1.8570e-04 - categorical_accuracy: 1.0000\n",
      "Epoch 171/300\n",
      "27/27 [==============================] - 1s 36ms/step - loss: 1.7540e-04 - categorical_accuracy: 1.0000\n",
      "Epoch 172/300\n",
      "27/27 [==============================] - 1s 34ms/step - loss: 1.6921e-04 - categorical_accuracy: 1.0000\n",
      "Epoch 173/300\n",
      "27/27 [==============================] - 1s 36ms/step - loss: 1.6109e-04 - categorical_accuracy: 1.0000\n",
      "Epoch 174/300\n",
      "27/27 [==============================] - 1s 36ms/step - loss: 1.5433e-04 - categorical_accuracy: 1.0000\n",
      "Epoch 175/300\n",
      "27/27 [==============================] - 1s 35ms/step - loss: 1.4768e-04 - categorical_accuracy: 1.0000\n",
      "Epoch 176/300\n",
      "27/27 [==============================] - 1s 35ms/step - loss: 1.4303e-04 - categorical_accuracy: 1.0000\n",
      "Epoch 177/300\n",
      "27/27 [==============================] - 1s 36ms/step - loss: 1.3672e-04 - categorical_accuracy: 1.0000\n",
      "Epoch 178/300\n",
      "27/27 [==============================] - 1s 35ms/step - loss: 1.3125e-04 - categorical_accuracy: 1.0000\n",
      "Epoch 179/300\n",
      "27/27 [==============================] - 1s 35ms/step - loss: 1.2628e-04 - categorical_accuracy: 1.0000\n",
      "Epoch 180/300\n",
      "27/27 [==============================] - 1s 35ms/step - loss: 1.2140e-04 - categorical_accuracy: 1.0000\n",
      "Epoch 181/300\n",
      "27/27 [==============================] - 1s 35ms/step - loss: 1.1785e-04 - categorical_accuracy: 1.0000\n",
      "Epoch 182/300\n",
      "27/27 [==============================] - 1s 35ms/step - loss: 1.1240e-04 - categorical_accuracy: 1.0000\n",
      "Epoch 183/300\n",
      "27/27 [==============================] - 1s 35ms/step - loss: 1.0892e-04 - categorical_accuracy: 1.0000\n",
      "Epoch 184/300\n",
      "27/27 [==============================] - 1s 36ms/step - loss: 1.0531e-04 - categorical_accuracy: 1.0000\n",
      "Epoch 185/300\n",
      "27/27 [==============================] - 1s 35ms/step - loss: 1.0218e-04 - categorical_accuracy: 1.0000\n",
      "Epoch 186/300\n",
      "27/27 [==============================] - 1s 35ms/step - loss: 9.8433e-05 - categorical_accuracy: 1.0000\n",
      "Epoch 187/300\n",
      "27/27 [==============================] - 1s 35ms/step - loss: 9.5186e-05 - categorical_accuracy: 1.0000\n",
      "Epoch 188/300\n",
      "27/27 [==============================] - 1s 36ms/step - loss: 9.1428e-05 - categorical_accuracy: 1.0000\n",
      "Epoch 189/300\n",
      "27/27 [==============================] - 1s 35ms/step - loss: 8.8358e-05 - categorical_accuracy: 1.0000\n",
      "Epoch 190/300\n",
      "27/27 [==============================] - 1s 36ms/step - loss: 8.5994e-05 - categorical_accuracy: 1.0000\n",
      "Epoch 191/300\n",
      "27/27 [==============================] - 1s 35ms/step - loss: 8.2873e-05 - categorical_accuracy: 1.0000\n",
      "Epoch 192/300\n",
      "27/27 [==============================] - 1s 35ms/step - loss: 8.0238e-05 - categorical_accuracy: 1.0000\n",
      "Epoch 193/300\n",
      "27/27 [==============================] - 1s 35ms/step - loss: 7.8378e-05 - categorical_accuracy: 1.0000\n",
      "Epoch 194/300\n",
      "27/27 [==============================] - 1s 35ms/step - loss: 7.5757e-05 - categorical_accuracy: 1.0000\n",
      "Epoch 195/300\n",
      "27/27 [==============================] - 1s 35ms/step - loss: 7.3594e-05 - categorical_accuracy: 1.0000\n",
      "Epoch 196/300\n",
      "27/27 [==============================] - 1s 36ms/step - loss: 7.0953e-05 - categorical_accuracy: 1.0000\n",
      "Epoch 197/300\n",
      "27/27 [==============================] - 1s 35ms/step - loss: 6.8730e-05 - categorical_accuracy: 1.0000\n",
      "Epoch 198/300\n",
      "27/27 [==============================] - 1s 35ms/step - loss: 6.6971e-05 - categorical_accuracy: 1.0000\n",
      "Epoch 199/300\n",
      "27/27 [==============================] - 1s 35ms/step - loss: 6.4876e-05 - categorical_accuracy: 1.0000\n",
      "Epoch 200/300\n",
      "27/27 [==============================] - 1s 35ms/step - loss: 6.3661e-05 - categorical_accuracy: 1.0000\n",
      "Epoch 201/300\n",
      "27/27 [==============================] - 1s 35ms/step - loss: 6.1133e-05 - categorical_accuracy: 1.0000\n",
      "Epoch 202/300\n",
      "27/27 [==============================] - 1s 37ms/step - loss: 5.9861e-05 - categorical_accuracy: 1.0000\n",
      "Epoch 203/300\n",
      "27/27 [==============================] - 1s 36ms/step - loss: 5.7829e-05 - categorical_accuracy: 1.0000\n",
      "Epoch 204/300\n",
      "27/27 [==============================] - 1s 36ms/step - loss: 5.6308e-05 - categorical_accuracy: 1.0000\n",
      "Epoch 205/300\n",
      "27/27 [==============================] - 1s 36ms/step - loss: 5.4808e-05 - categorical_accuracy: 1.0000\n",
      "Epoch 206/300\n",
      "27/27 [==============================] - 1s 36ms/step - loss: 5.3176e-05 - categorical_accuracy: 1.0000\n",
      "Epoch 207/300\n",
      "27/27 [==============================] - 1s 36ms/step - loss: 5.1762e-05 - categorical_accuracy: 1.0000\n",
      "Epoch 208/300\n",
      "27/27 [==============================] - 1s 35ms/step - loss: 5.0585e-05 - categorical_accuracy: 1.0000\n",
      "Epoch 209/300\n",
      "27/27 [==============================] - 1s 36ms/step - loss: 4.9045e-05 - categorical_accuracy: 1.0000\n",
      "Epoch 210/300\n",
      "27/27 [==============================] - 1s 35ms/step - loss: 4.7855e-05 - categorical_accuracy: 1.0000\n",
      "Epoch 211/300\n",
      "27/27 [==============================] - 1s 36ms/step - loss: 4.6632e-05 - categorical_accuracy: 1.0000\n",
      "Epoch 212/300\n",
      "27/27 [==============================] - 1s 38ms/step - loss: 4.5529e-05 - categorical_accuracy: 1.0000\n",
      "Epoch 213/300\n",
      "27/27 [==============================] - 1s 38ms/step - loss: 4.4362e-05 - categorical_accuracy: 1.0000\n",
      "Epoch 214/300\n",
      "27/27 [==============================] - 1s 35ms/step - loss: 4.3145e-05 - categorical_accuracy: 1.0000\n",
      "Epoch 215/300\n",
      "27/27 [==============================] - 1s 35ms/step - loss: 4.2477e-05 - categorical_accuracy: 1.0000\n",
      "Epoch 216/300\n",
      "27/27 [==============================] - 1s 34ms/step - loss: 4.1114e-05 - categorical_accuracy: 1.0000\n",
      "Epoch 217/300\n",
      "27/27 [==============================] - 1s 36ms/step - loss: 4.0008e-05 - categorical_accuracy: 1.0000\n",
      "Epoch 218/300\n",
      "27/27 [==============================] - 1s 35ms/step - loss: 3.9028e-05 - categorical_accuracy: 1.0000\n",
      "Epoch 219/300\n",
      "27/27 [==============================] - 1s 35ms/step - loss: 3.8161e-05 - categorical_accuracy: 1.0000\n",
      "Epoch 220/300\n",
      "27/27 [==============================] - 1s 34ms/step - loss: 3.7281e-05 - categorical_accuracy: 1.0000\n",
      "Epoch 221/300\n",
      "27/27 [==============================] - 1s 35ms/step - loss: 3.6335e-05 - categorical_accuracy: 1.0000\n",
      "Epoch 222/300\n",
      "27/27 [==============================] - 1s 35ms/step - loss: 3.5379e-05 - categorical_accuracy: 1.0000\n",
      "Epoch 223/300\n",
      "27/27 [==============================] - 1s 35ms/step - loss: 3.4567e-05 - categorical_accuracy: 1.0000\n",
      "Epoch 224/300\n",
      "27/27 [==============================] - 1s 35ms/step - loss: 3.3774e-05 - categorical_accuracy: 1.0000\n",
      "Epoch 225/300\n",
      "27/27 [==============================] - 1s 35ms/step - loss: 3.3006e-05 - categorical_accuracy: 1.0000\n",
      "Epoch 226/300\n",
      "27/27 [==============================] - 1s 35ms/step - loss: 3.2411e-05 - categorical_accuracy: 1.0000\n",
      "Epoch 227/300\n",
      "27/27 [==============================] - 1s 34ms/step - loss: 3.1482e-05 - categorical_accuracy: 1.0000\n",
      "Epoch 228/300\n",
      "27/27 [==============================] - 1s 34ms/step - loss: 3.0792e-05 - categorical_accuracy: 1.0000\n",
      "Epoch 229/300\n",
      "27/27 [==============================] - 1s 34ms/step - loss: 3.0070e-05 - categorical_accuracy: 1.0000\n",
      "Epoch 230/300\n",
      "27/27 [==============================] - 1s 35ms/step - loss: 2.9392e-05 - categorical_accuracy: 1.0000\n",
      "Epoch 231/300\n",
      "27/27 [==============================] - 1s 34ms/step - loss: 2.8748e-05 - categorical_accuracy: 1.0000\n",
      "Epoch 232/300\n",
      "27/27 [==============================] - 1s 35ms/step - loss: 2.8070e-05 - categorical_accuracy: 1.0000\n",
      "Epoch 233/300\n",
      "27/27 [==============================] - 1s 34ms/step - loss: 2.7430e-05 - categorical_accuracy: 1.0000\n",
      "Epoch 234/300\n",
      "27/27 [==============================] - 1s 34ms/step - loss: 2.6848e-05 - categorical_accuracy: 1.0000\n",
      "Epoch 235/300\n",
      "27/27 [==============================] - 1s 34ms/step - loss: 2.6255e-05 - categorical_accuracy: 1.0000\n",
      "Epoch 236/300\n",
      "27/27 [==============================] - 1s 34ms/step - loss: 2.5659e-05 - categorical_accuracy: 1.0000\n",
      "Epoch 237/300\n",
      "27/27 [==============================] - 1s 35ms/step - loss: 2.5085e-05 - categorical_accuracy: 1.0000\n",
      "Epoch 238/300\n",
      "27/27 [==============================] - 1s 36ms/step - loss: 2.4583e-05 - categorical_accuracy: 1.0000\n",
      "Epoch 239/300\n",
      "27/27 [==============================] - 1s 35ms/step - loss: 2.3988e-05 - categorical_accuracy: 1.0000\n",
      "Epoch 240/300\n",
      "27/27 [==============================] - 1s 36ms/step - loss: 2.3510e-05 - categorical_accuracy: 1.0000\n",
      "Epoch 241/300\n",
      "27/27 [==============================] - 1s 35ms/step - loss: 2.2943e-05 - categorical_accuracy: 1.0000\n",
      "Epoch 242/300\n",
      "27/27 [==============================] - 1s 35ms/step - loss: 2.2503e-05 - categorical_accuracy: 1.0000\n",
      "Epoch 243/300\n",
      "27/27 [==============================] - 1s 35ms/step - loss: 2.1994e-05 - categorical_accuracy: 1.0000\n",
      "Epoch 244/300\n",
      "27/27 [==============================] - 1s 35ms/step - loss: 2.1529e-05 - categorical_accuracy: 1.0000\n",
      "Epoch 245/300\n",
      "27/27 [==============================] - 1s 36ms/step - loss: 2.1062e-05 - categorical_accuracy: 1.0000\n",
      "Epoch 246/300\n",
      " 3/27 [==>...........................] - ETA: 0s - loss: 3.7572e-05 - categorical_accuracy: 1.0000"
     ]
    }
   ],
   "source": [
    "model.fit(X_train, y_train, epochs=300, callbacks=[tb_callback])"
   ]
  },
  {
   "cell_type": "code",
   "execution_count": 18,
   "id": "b1f2ab65",
   "metadata": {},
   "outputs": [
    {
     "name": "stdout",
     "output_type": "stream",
     "text": [
      "Model: \"sequential\"\n",
      "_________________________________________________________________\n",
      " Layer (type)                Output Shape              Param #   \n",
      "=================================================================\n",
      " lstm (LSTM)                 (None, 30, 64)            82688     \n",
      "                                                                 \n",
      " lstm_1 (LSTM)               (None, 30, 128)           98816     \n",
      "                                                                 \n",
      " lstm_2 (LSTM)               (None, 64)                49408     \n",
      "                                                                 \n",
      " dense (Dense)               (None, 64)                4160      \n",
      "                                                                 \n",
      " dense_1 (Dense)             (None, 32)                2080      \n",
      "                                                                 \n",
      " dense_2 (Dense)             (None, 4)                 132       \n",
      "                                                                 \n",
      "=================================================================\n",
      "Total params: 237,284\n",
      "Trainable params: 237,284\n",
      "Non-trainable params: 0\n",
      "_________________________________________________________________\n"
     ]
    }
   ],
   "source": [
    "model.summary()"
   ]
  },
  {
   "cell_type": "code",
   "execution_count": 19,
   "id": "b99f7b53",
   "metadata": {},
   "outputs": [
    {
     "name": "stdout",
     "output_type": "stream",
     "text": [
      "1/1 [==============================] - 0s 302ms/step\n"
     ]
    }
   ],
   "source": [
    "res = model.predict(X_test)"
   ]
  },
  {
   "cell_type": "code",
   "execution_count": 20,
   "id": "5df072c6",
   "metadata": {},
   "outputs": [
    {
     "data": {
      "text/plain": [
       "'2'"
      ]
     },
     "execution_count": 20,
     "metadata": {},
     "output_type": "execute_result"
    }
   ],
   "source": [
    "actions[np.argmax(res[4])]"
   ]
  },
  {
   "cell_type": "code",
   "execution_count": 21,
   "id": "321ce913",
   "metadata": {},
   "outputs": [
    {
     "data": {
      "text/plain": [
       "'2'"
      ]
     },
     "execution_count": 21,
     "metadata": {},
     "output_type": "execute_result"
    }
   ],
   "source": [
    "actions[np.argmax(y_test[4])]"
   ]
  },
  {
   "cell_type": "code",
   "execution_count": 22,
   "id": "ee15f864",
   "metadata": {},
   "outputs": [],
   "source": [
    "model.save('action.h5')"
   ]
  }
 ],
 "metadata": {
  "kernelspec": {
   "display_name": "Python 3 (ipykernel)",
   "language": "python",
   "name": "python3"
  },
  "language_info": {
   "codemirror_mode": {
    "name": "ipython",
    "version": 3
   },
   "file_extension": ".py",
   "mimetype": "text/x-python",
   "name": "python",
   "nbconvert_exporter": "python",
   "pygments_lexer": "ipython3",
   "version": "3.9.12"
  }
 },
 "nbformat": 4,
 "nbformat_minor": 5
}
